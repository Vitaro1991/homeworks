{
 "cells": [
  {
   "cell_type": "code",
   "execution_count": 3,
   "metadata": {},
   "outputs": [],
   "source": [
    "documents = [\n",
    "{'type': 'passport', 'number': '2207 876234', 'name': 'Василий Гупкин'},\n",
    "{'type': 'invoice', 'number': '11-2', 'name': 'Геннадий Покемонов'},\n",
    "{'type': 'insurance', 'number': '10006', 'name': 'Аристарх Павлов'}\n",
    "]"
   ]
  },
  {
   "cell_type": "code",
   "execution_count": 4,
   "metadata": {},
   "outputs": [],
   "source": [
    "directories = {\n",
    "'1': ['2207 876234', '11-2'],\n",
    "'2': ['10006'],\n",
    "'3': []\n",
    "}"
   ]
  },
  {
   "cell_type": "code",
   "execution_count": 5,
   "metadata": {},
   "outputs": [],
   "source": [
    "def get_name(documents):\n",
    "    name = None\n",
    "    user_input = input('Введите номер документа: ')\n",
    "    for document in documents:\n",
    "        if user_input == document['number']:\n",
    "            name = document['name']\n",
    "    if name == None:\n",
    "        print('Документ не найден в базе')\n",
    "    else:\n",
    "        print(f'Владелец документа: {name}')"
   ]
  },
  {
   "cell_type": "code",
   "execution_count": 6,
   "metadata": {},
   "outputs": [
    {
     "name": "stdout",
     "output_type": "stream",
     "text": [
      "Введите номер документа: \n",
      "Документ не найден в базе\n"
     ]
    }
   ],
   "source": [
    "get_name(documents)"
   ]
  },
  {
   "cell_type": "code",
   "execution_count": 7,
   "metadata": {},
   "outputs": [],
   "source": [
    "def get_shelf(directories):\n",
    "    shelf = None\n",
    "    user_input = input('Введите номер документа: ')\n",
    "    for shelf_number, directory in directories.items():\n",
    "        if user_input in directory:\n",
    "            shelf = shelf_number\n",
    "    if shelf == None:\n",
    "        print('Документ не найден в базе')\n",
    "    else:\n",
    "        print(f'Документ хранится на полке: {shelf}')"
   ]
  },
  {
   "cell_type": "code",
   "execution_count": 8,
   "metadata": {},
   "outputs": [
    {
     "name": "stdout",
     "output_type": "stream",
     "text": [
      "Введите номер документа: \n",
      "Документ не найден в базе\n"
     ]
    }
   ],
   "source": [
    "get_shelf(directories)"
   ]
  },
  {
   "cell_type": "code",
   "execution_count": 9,
   "metadata": {},
   "outputs": [],
   "source": [
    "def get_info(documents, directories):\n",
    "    for document in documents:\n",
    "        for shelf_number, directory in directories.items():\n",
    "            if document['number'] in directory:\n",
    "                document['shelf'] = shelf_number\n",
    "        type_ = document['type']\n",
    "        number = document['number']\n",
    "        name = document['name']\n",
    "        shelf = document['shelf']\n",
    "        print(f'№: {number}, тип: {type_}, владелец: {name}, полка хранения: {shelf}')"
   ]
  },
  {
   "cell_type": "code",
   "execution_count": 10,
   "metadata": {},
   "outputs": [
    {
     "name": "stdout",
     "output_type": "stream",
     "text": [
      "№: 2207 876234, тип: passport, владелец: Василий Гупкин, полка хранения: 1\n",
      "№: 11-2, тип: invoice, владелец: Геннадий Покемонов, полка хранения: 1\n",
      "№: 10006, тип: insurance, владелец: Аристарх Павлов, полка хранения: 2\n"
     ]
    }
   ],
   "source": [
    "get_info(documents, directories)"
   ]
  },
  {
   "cell_type": "code",
   "execution_count": 11,
   "metadata": {},
   "outputs": [],
   "source": [
    "def add_shelf(directories):\n",
    "    user_input = input('Введите номер полки: ')\n",
    "    if user_input in list(directories):\n",
    "        print(f'Такая полка уже существует. Текущий перечень полок: {list(directories)}.')\n",
    "    else:\n",
    "        directories[user_input] = []\n",
    "        print(f'Полка добавлена. Текущий перечень полок: {list(directories)}.')"
   ]
  },
  {
   "cell_type": "code",
   "execution_count": 12,
   "metadata": {},
   "outputs": [
    {
     "name": "stdout",
     "output_type": "stream",
     "text": [
      "Введите номер полки: \n",
      "Полка добавлена. Текущий перечень полок: ['1', '2', '3', ''].\n"
     ]
    }
   ],
   "source": [
    "add_shelf(directories)"
   ]
  },
  {
   "cell_type": "code",
   "execution_count": 13,
   "metadata": {},
   "outputs": [],
   "source": [
    "def del_shelf(directories):\n",
    "    user_input = input('Введите номер полки: ')\n",
    "    if user_input in list(directories):\n",
    "        if directories[user_input] == []:\n",
    "            del directories[user_input]\n",
    "            print(f'Полка удалена. Текущий перечень полок: {list(directories)}.')\n",
    "        else:\n",
    "            print(f'На полке есть документы, удалите их перед удалением полки. Текущий перечень полок: {list(directories)}.')\n",
    "    else:\n",
    "        print(f'Такой полки не существует. Текущий перечень полок: {list(directories)}.')"
   ]
  },
  {
   "cell_type": "code",
   "execution_count": 14,
   "metadata": {},
   "outputs": [
    {
     "name": "stdout",
     "output_type": "stream",
     "text": [
      "Введите номер полки: \n",
      "Полка удалена. Текущий перечень полок: ['1', '2', '3'].\n"
     ]
    }
   ],
   "source": [
    "del_shelf(directories)"
   ]
  },
  {
   "cell_type": "code",
   "execution_count": 15,
   "metadata": {},
   "outputs": [],
   "source": [
    "def main(documents, directories):\n",
    "    while True:\n",
    "        user_input = input('Введите команду: ')\n",
    "        if user_input == 'p':\n",
    "            get_name(documents)\n",
    "        elif user_input == 's':\n",
    "            get_shelf(directories)\n",
    "        elif user_input == 'l':\n",
    "            get_info(documents, directories)\n",
    "        elif user_input == 'as':\n",
    "            add_shelf(directories)\n",
    "        elif user_input == 'ds':\n",
    "            del_shelf(directories)\n",
    "        elif user_input == 'q':\n",
    "            print('Работа программы завершена')\n",
    "            break"
   ]
  },
  {
   "cell_type": "code",
   "execution_count": 16,
   "metadata": {},
   "outputs": [
    {
     "name": "stdout",
     "output_type": "stream",
     "text": [
      "Введите команду: \n",
      "Введите команду: l\n",
      "№: 2207 876234, тип: passport, владелец: Василий Гупкин, полка хранения: 1\n",
      "№: 11-2, тип: invoice, владелец: Геннадий Покемонов, полка хранения: 1\n",
      "№: 10006, тип: insurance, владелец: Аристарх Павлов, полка хранения: 2\n",
      "Введите команду: ds\n",
      "Введите номер полки: 1\n",
      "На полке есть документы, удалите их перед удалением полки. Текущий перечень полок: ['1', '2', '3'].\n",
      "Введите команду: p\n",
      "Введите номер документа: 11-2\n",
      "Владелец документа: Геннадий Покемонов\n",
      "Введите команду: as\n",
      "Введите номер полки: 4\n",
      "Полка добавлена. Текущий перечень полок: ['1', '2', '3', '4'].\n",
      "Введите команду: as\n",
      "Введите номер полки: 1\n",
      "Такая полка уже существует. Текущий перечень полок: ['1', '2', '3', '4'].\n",
      "Введите команду: ds\n",
      "Введите номер полки: 1\n",
      "На полке есть документы, удалите их перед удалением полки. Текущий перечень полок: ['1', '2', '3', '4'].\n",
      "Введите команду: ds\n",
      "Введите номер полки: 3\n",
      "Полка удалена. Текущий перечень полок: ['1', '2', '4'].\n",
      "Введите команду: q\n",
      "Работа программы завершена\n"
     ]
    }
   ],
   "source": [
    "main(documents, directories)"
   ]
  },
  {
   "cell_type": "code",
   "execution_count": null,
   "metadata": {},
   "outputs": [],
   "source": []
  }
 ],
 "metadata": {
  "kernelspec": {
   "display_name": "Python 3",
   "language": "python",
   "name": "python3"
  }
 },
 "nbformat": 4,
 "nbformat_minor": 2
}
