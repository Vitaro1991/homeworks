{
 "cells": [
  {
   "cell_type": "code",
   "execution_count": 3,
   "metadata": {},
   "outputs": [],
   "source": [
    "import json"
   ]
  },
  {
   "cell_type": "code",
   "execution_count": 5,
   "metadata": {
    "scrolled": true
   },
   "outputs": [],
   "source": [
    "with open('purchase_log.txt', 'r', encoding ='utf-8') as f:\n",
    "    header = f.readline()\n",
    "    purchases = {}\n",
    "    \n",
    "    for line in f:\n",
    "        line = line.strip()\n",
    "                \n",
    "        dict_ = json.loads(line)\n",
    "        purchases.update({dict_['user_id']: dict_['category']})\n"
   ]
  },
  {
   "cell_type": "code",
   "execution_count": 30,
   "metadata": {},
   "outputs": [],
   "source": [
    "i = 0\n",
    "with open('visit_log.csv', 'r') as f_1:\n",
    "    header = f_1.readline()\n",
    "    \n",
    "    with open('funnel.csv', 'w') as f_filtered:\n",
    "        \n",
    "        for line in f_1:\n",
    "            line = line.strip().split(',')\n",
    "            user_id, source = line\n",
    "\n",
    "\n",
    "            if user_id in list(purchases):\n",
    "                line.append(purchases[user_id])\n",
    "                f_filtered.write(','.join(line) + '\\n')\n"
   ]
  },
  {
   "cell_type": "code",
   "execution_count": null,
   "metadata": {},
   "outputs": [],
   "source": []
  }
 ],
 "metadata": {
  "kernelspec": {
   "display_name": "Python 3",
   "language": "python",
   "name": "python3"
  },
  "language_info": {
   "codemirror_mode": {
    "name": "ipython",
    "version": 3
   },
   "file_extension": ".py",
   "mimetype": "text/x-python",
   "name": "python",
   "nbconvert_exporter": "python",
   "pygments_lexer": "ipython3",
   "version": "3.7.4"
  }
 },
 "nbformat": 4,
 "nbformat_minor": 2
}
