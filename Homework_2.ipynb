{
 "cells": [
  {
   "cell_type": "markdown",
   "metadata": {},
   "source": [
    "### Задание 1"
   ]
  },
  {
   "cell_type": "code",
   "execution_count": 5,
   "metadata": {
    "scrolled": true
   },
   "outputs": [
    {
     "name": "stdout",
     "output_type": "stream",
     "text": [
      "Фраза 1 длиннее фразы 2\n"
     ]
    }
   ],
   "source": [
    "phrase_1 = 'Насколько проще было бы писать программы, если бы не заказчики'\n",
    "phrase_2 = '640Кб должно хватить для любых задач. Билл Гейтс (по легенде)'\n",
    "\n",
    "if len(phrase_1) > len(phrase_2):\n",
    "    print('Фраза 1 длиннее фразы 2')\n",
    "elif len(phrase_1) < len(phrase_2):\n",
    "    print('Фраза 2 длиннее фразы 1')\n",
    "elif len(phrase_1) == len(phrase_2):\n",
    "    print('Фразы равной длины')"
   ]
  },
  {
   "cell_type": "code",
   "execution_count": 6,
   "metadata": {},
   "outputs": [
    {
     "name": "stdout",
     "output_type": "stream",
     "text": [
      "Фраза 2 длиннее фразы 1\n"
     ]
    }
   ],
   "source": [
    "phrase_1 = '640Кб должно хватить для любых задач. Билл Гейтс (по легенде)'\n",
    "phrase_2 = 'Насколько проще было бы писать программы, если бы не заказчики'\n",
    "\n",
    "if len(phrase_1) > len(phrase_2):\n",
    "    print('Фраза 1 длиннее фразы 2')\n",
    "elif len(phrase_1) < len(phrase_2):\n",
    "    print('Фраза 2 длиннее фразы 1')\n",
    "elif len(phrase_1) == len(phrase_2):\n",
    "    print('Фразы равной длины')"
   ]
  },
  {
   "cell_type": "code",
   "execution_count": 8,
   "metadata": {},
   "outputs": [
    {
     "name": "stdout",
     "output_type": "stream",
     "text": [
      "Фразы равной длины\n"
     ]
    }
   ],
   "source": [
    "phrase_1 = 'Насколько проще было бы писать программы, если бы не заказчики'\n",
    "phrase_2 = 'Насколько проще было бы писать программы, если бы не заказчики'\n",
    "\n",
    "if len(phrase_1) > len(phrase_2):\n",
    "    print('Фраза 1 длиннее фразы 2')\n",
    "elif len(phrase_1) < len(phrase_2):\n",
    "    print('Фраза 2 длиннее фразы 1')\n",
    "elif len(phrase_1) == len(phrase_2):\n",
    "    print('Фразы равной длины')"
   ]
  },
  {
   "cell_type": "markdown",
   "metadata": {},
   "source": [
    "### Задание 2"
   ]
  },
  {
   "cell_type": "code",
   "execution_count": 5,
   "metadata": {},
   "outputs": [
    {
     "name": "stdout",
     "output_type": "stream",
     "text": [
      "1900\n",
      "Обычный год\n"
     ]
    }
   ],
   "source": [
    "year = int(input())\n",
    "\n",
    "if year % 4 == 0 and year % 100 != 0 or year % 4 == 0 and year % 100 == 0 and year % 400 == 0: \n",
    "    print('Високосный год')\n",
    "else:\n",
    "    print('Обычный год')"
   ]
  },
  {
   "cell_type": "markdown",
   "metadata": {},
   "source": [
    "### Задание 3"
   ]
  },
  {
   "cell_type": "code",
   "execution_count": 6,
   "metadata": {},
   "outputs": [
    {
     "name": "stdout",
     "output_type": "stream",
     "text": [
      "Введите день 10\n",
      "Введите месяц Июнь\n",
      "Ваш знак зодиака: Близнецы\n"
     ]
    }
   ],
   "source": [
    "date = int(input('Введите день '))\n",
    "month = input('Введите месяц ')\n",
    "\n",
    "if month == 'Январь' and 1 <= date <= 19 or month == 'Декабрь' and 22 <= date <= 31:\n",
    "    print('Ваш знак зодиака: Козерог')\n",
    "elif month == 'Январь' and 20 <= date < 31 or month == 'Февраль' and 1 <= date <= 18:\n",
    "    print('Ваш знак зодиака: Водолей')\n",
    "elif month == 'Февраль' and 19 <= date <= 29 or month == 'Март' and 1 <= date <= 20:\n",
    "    print('Ваш знак зодиака: Рыбы')\n",
    "elif month == 'Март' and 21 <= date <= 31 or month == 'Апрель' and 1 <= date <= 19:\n",
    "    print('Ваш знак зодиака: Овен')\n",
    "elif month == 'Апрель' and 20 <= date <= 30 or month == 'Май' and 1 <= date <= 20:\n",
    "    print('Ваш знак зодиака: Телец')\n",
    "elif month == 'Май' and 21 <= date <= 31 or month == 'Июнь' and 1 <= date <= 20:\n",
    "    print('Ваш знак зодиака: Близнецы')\n",
    "elif month == 'Июнь' and 21 <= date <= 30 or month == 'Июль' and 1 <= date <= 22:\n",
    "    print('Ваш знак зодиака: Рак')\n",
    "elif month == 'Июль' and 23 <= date <= 31 or month == 'Август' and 1 <= date <= 22:\n",
    "    print('Ваш знак зодиака: Лев')\n",
    "elif month == 'Август' and 23 <= date <= 31 or month == 'Сентябрь' and 1 <= date <= 22:\n",
    "    print('Ваш знак зодиака: Дева')\n",
    "elif month == 'Сентябрь' and 23 <= date <= 30 or month == 'Октябрь' and 1 <= date <= 22:\n",
    "    print('Ваш знак зодиака: Весы')\n",
    "elif month == 'Октябрь' and 23 <= date <= 31 or month == 'Ноябрь' and 1 <= date <= 21:\n",
    "    print('Ваш знак зодиака: Скорпион')\n",
    "elif month == 'Ноябрь' and 22 <= date <= 30 or month == 'Декабрь' and 1 <= date <= 21:\n",
    "    print('Ваш знак зодиака: Стрелец')\n",
    "else:\n",
    "    print('Вы неверно указали дату')"
   ]
  },
  {
   "cell_type": "markdown",
   "metadata": {},
   "source": [
    "### Задание 4"
   ]
  },
  {
   "cell_type": "code",
   "execution_count": 9,
   "metadata": {},
   "outputs": [
    {
     "name": "stdout",
     "output_type": "stream",
     "text": [
      "Ширина: 45\n",
      "Длина: 201\n",
      "Высота: 45\n",
      "Упаковка для лыж\n"
     ]
    }
   ],
   "source": [
    "width = int(input('Ширина: '))\n",
    "length = int(input('Длина: '))\n",
    "height = int(input('Высота: '))\n",
    "\n",
    "if length > 200:\n",
    "    print('Упаковка для лыж')\n",
    "else: \n",
    "    if width < 15 and length < 15 and height < 15: \n",
    "        print('Коробка №1')\n",
    "    elif 15 < width < 50 or 15 < length < 50 or 15 < height < 50: \n",
    "        print('Коробка №2')\n",
    "    else:\n",
    "        print('Стандартная коробка №3')"
   ]
  },
  {
   "cell_type": "markdown",
   "metadata": {},
   "source": [
    "### Задание 5"
   ]
  },
  {
   "cell_type": "code",
   "execution_count": 26,
   "metadata": {},
   "outputs": [
    {
     "name": "stdout",
     "output_type": "stream",
     "text": [
      "100100\n",
      "Счастливый билет\n"
     ]
    }
   ],
   "source": [
    "ticket = int(input())\n",
    "if ticket % 10 + (ticket % 100) // 10 + (ticket % 1000) // 100 == (ticket % 10000) // 1000 + (ticket % 100000) // 10000 + (ticket % 1000000) // 100000:\n",
    "    print('Счастливый билет')\n",
    "else: \n",
    "    print('Несчастливый билет')"
   ]
  },
  {
   "cell_type": "markdown",
   "metadata": {},
   "source": [
    "### Задание 6"
   ]
  },
  {
   "cell_type": "code",
   "execution_count": 10,
   "metadata": {},
   "outputs": [
    {
     "name": "stdout",
     "output_type": "stream",
     "text": [
      "Введите тип фигуры: Треугольник\n",
      "Введите длину стороны A: 2\n",
      "Введите длину стороны B: 2\n",
      "Введите длину стороны C: 3\n",
      "Площадь треугольника:  1.984313483298443\n"
     ]
    }
   ],
   "source": [
    "from math import sqrt, exp, pi\n",
    "\n",
    "type_figure = input('Введите тип фигуры: ')\n",
    "\n",
    "if type_figure == 'Треугольник': \n",
    "    tr_a = int(input('Введите длину стороны A: '))\n",
    "    tr_b = int(input('Введите длину стороны B: '))\n",
    "    tr_c = int(input('Введите длину стороны C: '))\n",
    "    tr_p = (tr_a + tr_b + tr_c)/2\n",
    "    tr_square = (tr_p * (tr_p - tr_a) * (tr_p - tr_b) * (tr_p - tr_c))\n",
    "    print('Площадь треугольника: ', sqrt(tr_square))\n",
    "elif type_figure == 'Квадрат':\n",
    "    sq_a = int(input('Введите длину стороны A: '))\n",
    "    sq_b = int(input('Введите длину стороны B: '))\n",
    "    sq_square = sq_a * sq_b\n",
    "    print('Площадь квадрата: ', sq_square)\n",
    "elif type_figure == 'Круг':\n",
    "    radius_ = int(input('Введите радиус круга: '))\n",
    "    cir_square = (radius_ ** 2) * pi\n",
    "    print('Площадь круга: ', cir_square)"
   ]
  },
  {
   "cell_type": "code",
   "execution_count": null,
   "metadata": {},
   "outputs": [],
   "source": []
  }
 ],
 "metadata": {
  "kernelspec": {
   "display_name": "Python 3",
   "language": "python",
   "name": "python3"
  },
  "language_info": {
   "codemirror_mode": {
    "name": "ipython",
    "version": 3
   },
   "file_extension": ".py",
   "mimetype": "text/x-python",
   "name": "python",
   "nbconvert_exporter": "python",
   "pygments_lexer": "ipython3",
   "version": "3.7.4"
  }
 },
 "nbformat": 4,
 "nbformat_minor": 2
}
